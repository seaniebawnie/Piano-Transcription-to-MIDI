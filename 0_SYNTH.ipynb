{
 "cells": [
  {
   "cell_type": "code",
   "execution_count": 8,
   "id": "032a0a8f-ffb3-4cc1-8c22-c0b2d13584e6",
   "metadata": {},
   "outputs": [
    {
     "name": "stdin",
     "output_type": "stream",
     "text": [
      "Enter a MIDI note number (21-108):  69\n"
     ]
    },
    {
     "name": "stdout",
     "output_type": "stream",
     "text": [
      "MIDI file velocity_test_69.midi successfully created.\n",
      "\n"
     ]
    }
   ],
   "source": [
    "import mido\n",
    "import time  # Import the time module, though we won't use it directly for delays\n",
    "\n",
    "def create_velocity_test_midi(note_number):\n",
    "    \"\"\"\n",
    "    Creates a MIDI file that plays a given note through all velocities (1-127).\n",
    "\n",
    "    Args:\n",
    "        note_number (int): The MIDI note number to play (e.g., 60 for middle C).\n",
    "        output_filename (str, optional): The name of the output MIDI file.\n",
    "            Defaults to \"velocity_test.mid\".\n",
    "    \"\"\"\n",
    "    # Create a new MIDI file with a single track\n",
    "    mid = mido.MidiFile()\n",
    "    track = mido.MidiTrack()\n",
    "    mid.tracks.append(track)\n",
    "\n",
    "    # Set the tempo (microseconds per beat).  120 BPM is 500000 microseconds per beat\n",
    "    track.append(mido.MetaMessage('set_tempo', tempo=500000))\n",
    "\n",
    "    # Add a Time Signature\n",
    "    track.append(mido.MetaMessage('time_signature', numerator=4, denominator=4))\n",
    "\n",
    "    # Add key signature\n",
    "    track.append(mido.MetaMessage('key_signature', key='C'))\n",
    "\n",
    "    # Add track name\n",
    "    track.append(mido.MetaMessage('track_name', name='Velocity Test'))\n",
    "    \n",
    "    # Select an instrument (Grand Piano = 0).\n",
    "    track.append(mido.Message('program_change', program=0, channel=0))\n",
    "\n",
    "    # Duration of each note in ticks (one second at 120 BPM).\n",
    "    # 120 BPM = 2 ticks per millisecond. 1 second = 1000 ms = 2000 ticks.\n",
    "    note_duration = 2000  #  Ticks\n",
    "\n",
    "    for velocity in range(1, 128):\n",
    "        # Note on message\n",
    "        track.append(mido.Message('note_on', note=note_number, velocity=velocity, channel=0))\n",
    "        # Note off message after note_duration ticks\n",
    "        track.append(mido.Message('note_off', note=note_number, velocity=0, channel=0, time=note_duration))\n",
    "\n",
    "    # Save the MIDI file\n",
    "    try:\n",
    "        mid.save(f\"SOURCES/MIDI/velocity_test_{note_number}.midi\")\n",
    "        print(f\"MIDI file velocity_test_{note_number}.midi successfully created.\")\n",
    "    except Exception as e:\n",
    "        print(f\"Error saving MIDI file: {e}\")\n",
    "\n",
    "if __name__ == \"__main__\":\n",
    "    # Get the note number from the user\n",
    "    while True:\n",
    "        try:\n",
    "            note_number = int(input(\"Enter a MIDI note number (21-108): \"))\n",
    "            if 21 <= note_number <= 108:\n",
    "                break  # Exit the loop if the input is valid\n",
    "            else:\n",
    "                print(\"Note number must be between 21 and 108 for an 88-key piano.\")\n",
    "        except ValueError:\n",
    "            print(\"Invalid input. Please enter an integer.\")\n",
    "\n",
    "    # Create the MIDI file\n",
    "    create_velocity_test_midi(note_number)\n",
    "    print(\"\")"
   ]
  },
  {
   "cell_type": "code",
   "execution_count": null,
   "id": "9cc903d5-644d-4cde-bc74-622e845b2158",
   "metadata": {},
   "outputs": [],
   "source": []
  }
 ],
 "metadata": {
  "kernelspec": {
   "display_name": "Python 3 (ipykernel)",
   "language": "python",
   "name": "python3"
  },
  "language_info": {
   "codemirror_mode": {
    "name": "ipython",
    "version": 3
   },
   "file_extension": ".py",
   "mimetype": "text/x-python",
   "name": "python",
   "nbconvert_exporter": "python",
   "pygments_lexer": "ipython3",
   "version": "3.11.11"
  }
 },
 "nbformat": 4,
 "nbformat_minor": 5
}
