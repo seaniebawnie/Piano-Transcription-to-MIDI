{
 "cells": [
  {
   "cell_type": "code",
   "execution_count": 6,
   "id": "d611d8c8-6457-4f73-86a4-f1d8777bef41",
   "metadata": {},
   "outputs": [],
   "source": [
    "import os\n",
    "\n",
    "global soundfont\n",
    "global midi_path\n",
    "global preprocess_audio\n",
    "global soundfont_path\n",
    "global notes\n",
    "global gains_path\n",
    "global original_audio \n",
    "global preprocess_audio\n",
    "global original_midi\n",
    "global prepocess_midi\n",
    "\n",
    "soundfont = \"Yamaha_S6\"\n",
    "midi_name = \"velocity_test_69\"\n",
    "\n",
    "soundfont_path = os.path.join(\"SOURCES/SOUNDFONTS/\", soundfont + \".sf2\") #Ensure Soundfont is in /SOURCES/SOUNDFONTS/[insert Soundfont name].sf2\n",
    "original_audio = rf\"2_PREPROCESS_OUT/AUDIO/{midi_name}/{midi_name}_{soundfont}.wav\"\n",
    "preprocess_audio = rf\"2_PREPROCESS_OUT/AUDIO/{midi_name}/{midi_name}_{soundfont}_pre.wav\"\n",
    "\n",
    "outputs_path = \"3_GENERATE_OUT/\"\n",
    "midi_path = os.path.join(outputs_path, \"MIDI/\")\n",
    "os.makedirs(midi_path, exist_ok=True)\n",
    "\n",
    "original_midi = os.path.join(midi_path, f\"{midi_name}_{soundfont}.mid\")\n",
    "preprocess_midi  = os.path.join(midi_path, f\"{midi_name}_{soundfont}_pre.mid\")"
   ]
  },
  {
   "cell_type": "code",
   "execution_count": 7,
   "id": "8eb09487-57e2-4c5c-b594-cd7b4a1a7d82",
   "metadata": {},
   "outputs": [
    {
     "name": "stdout",
     "output_type": "stream",
     "text": [
      "About to run example.py with original_audio: '2_PREPROCESS_OUT/AUDIO/velocity_test_69/velocity_test_69_Yamaha_S6.wav'\n",
      "Checkpoint path: C:\\Users\\15ssh/piano_transcription_inference_data/note_F1=0.9677_pedal_F1=0.9186.pth\n",
      "Using cpu for inference.\n",
      "Using CPU.\n",
      "Segment 0 / 53\n",
      "Segment 1 / 53\n",
      "Segment 2 / 53\n",
      "Segment 3 / 53\n",
      "Segment 4 / 53\n",
      "Segment 5 / 53\n",
      "Segment 6 / 53\n",
      "Segment 7 / 53\n",
      "Segment 8 / 53\n",
      "Segment 9 / 53\n",
      "Segment 10 / 53\n",
      "Segment 11 / 53\n",
      "Segment 12 / 53\n",
      "Segment 13 / 53\n",
      "Segment 14 / 53\n",
      "Segment 15 / 53\n",
      "Segment 16 / 53\n",
      "Segment 17 / 53\n",
      "Segment 18 / 53\n",
      "Segment 19 / 53\n",
      "Segment 20 / 53\n",
      "Segment 21 / 53\n",
      "Segment 22 / 53\n",
      "Segment 23 / 53\n",
      "Segment 24 / 53\n",
      "Segment 25 / 53\n",
      "Segment 26 / 53\n",
      "Segment 27 / 53\n",
      "Segment 28 / 53\n",
      "Segment 29 / 53\n",
      "Segment 30 / 53\n",
      "Segment 31 / 53\n",
      "Segment 32 / 53\n",
      "Segment 33 / 53\n",
      "Segment 34 / 53\n",
      "Segment 35 / 53\n",
      "Segment 36 / 53\n",
      "Segment 37 / 53\n",
      "Segment 38 / 53\n",
      "Segment 39 / 53\n",
      "Segment 40 / 53\n",
      "Segment 41 / 53\n",
      "Segment 42 / 53\n",
      "Segment 43 / 53\n",
      "Segment 44 / 53\n",
      "Segment 45 / 53\n",
      "Segment 46 / 53\n",
      "Segment 47 / 53\n",
      "Segment 48 / 53\n",
      "Segment 49 / 53\n",
      "Segment 50 / 53\n",
      "Segment 51 / 53\n",
      "Segment 52 / 53\n",
      "Segment 53 / 53\n",
      "New filename: output.txt\n",
      "original MIDI note, generated MIDI note, infered Velocity (0-1), MIDI velocity = round(infered Velocity*127)\n",
      "12 69 0.12375467 15\n",
      "37 69 0.15894367 20\n",
      "62 69 0.34514329 44\n",
      "87 69 0.40255684 51\n",
      "112 69 0.48000094 61\n",
      "137 69 0.54920399 70\n",
      "162 69 0.58150172 74\n",
      "187 69 0.62332863 79\n",
      "212 69 0.67542332 86\n",
      "237 69 0.72154397 92\n",
      "262 69 0.71686637 91\n",
      "Write out to 3_GENERATE_OUT/MIDI/velocity_test_69_Yamaha_S6.mid\n",
      "Transcribe time: 857.284 s\n"
     ]
    }
   ],
   "source": [
    "if os.path.exists(original_audio):\n",
    "    print(f\"About to run example.py with original_audio: '{original_audio}'\")\n",
    "    audio_path_arg = f\"--audio_path={original_audio}\"\n",
    "    output_midi_path_arg = f\"--output_midi_path={original_midi}\"\n",
    "    command = f\"python example.py {audio_path_arg} {output_midi_path_arg}\"\n",
    "    !$command\n",
    "else:\n",
    "    print(f\"The file '{original_audio}' still does not exist.\")"
   ]
  },
  {
   "cell_type": "code",
   "execution_count": null,
   "id": "0d6f14f8-92a8-4af5-82d5-f690039137e8",
   "metadata": {},
   "outputs": [
    {
     "name": "stdout",
     "output_type": "stream",
     "text": [
      "About to run example.py with preprocess_audio: '2_PREPROCESS_OUT/AUDIO/velocity_test_69/velocity_test_69_Yamaha_S6_pre.wav'\n"
     ]
    }
   ],
   "source": [
    "if os.path.exists(preprocess_audio):\n",
    "    print(f\"About to run example.py with preprocess_audio: '{preprocess_audio}'\")\n",
    "    audio_path_arg = f\"--audio_path={preprocess_audio}\"\n",
    "    output_midi_path_arg = f\"--output_midi_path={preprocess_midi}\"\n",
    "    command = f\"python example.py {audio_path_arg} {output_midi_path_arg}\"\n",
    "    !$command\n",
    "else:\n",
    "    print(f\"The file '{preprocess_audio}' still does not exist.\")"
   ]
  },
  {
   "cell_type": "code",
   "execution_count": null,
   "id": "1fb5fa58-b4bf-4d5b-b540-508bad8a45b5",
   "metadata": {},
   "outputs": [],
   "source": []
  },
  {
   "cell_type": "code",
   "execution_count": null,
   "id": "df819d2b-94a6-4888-83c7-025d5c96650c",
   "metadata": {},
   "outputs": [],
   "source": []
  }
 ],
 "metadata": {
  "kernelspec": {
   "display_name": "Python 3 (ipykernel)",
   "language": "python",
   "name": "python3"
  },
  "language_info": {
   "codemirror_mode": {
    "name": "ipython",
    "version": 3
   },
   "file_extension": ".py",
   "mimetype": "text/x-python",
   "name": "python",
   "nbconvert_exporter": "python",
   "pygments_lexer": "ipython3",
   "version": "3.11.11"
  }
 },
 "nbformat": 4,
 "nbformat_minor": 5
}
